{
 "cells": [
  {
   "cell_type": "code",
   "execution_count": 1,
   "id": "53394afd",
   "metadata": {
    "_cell_guid": "b1076dfc-b9ad-4769-8c92-a6c4dae69d19",
    "_uuid": "8f2839f25d086af736a60e9eeb907d3b93b6e0e5",
    "execution": {
     "iopub.execute_input": "2024-03-26T03:00:27.545636Z",
     "iopub.status.busy": "2024-03-26T03:00:27.545199Z",
     "iopub.status.idle": "2024-03-26T03:00:29.028418Z",
     "shell.execute_reply": "2024-03-26T03:00:29.027018Z"
    },
    "papermill": {
     "duration": 1.492413,
     "end_time": "2024-03-26T03:00:29.031369",
     "exception": false,
     "start_time": "2024-03-26T03:00:27.538956",
     "status": "completed"
    },
    "tags": []
   },
   "outputs": [
    {
     "ename": "FileNotFoundError",
     "evalue": "[Errno 2] No such file or directory: '/kaggle/input/datacleanupoperations/mn_headers.csv'",
     "output_type": "error",
     "traceback": [
      "\u001b[1;31m---------------------------------------------------------------------------\u001b[0m",
      "\u001b[1;31mFileNotFoundError\u001b[0m                         Traceback (most recent call last)",
      "Cell \u001b[1;32mIn[1], line 4\u001b[0m\n\u001b[0;32m      2\u001b[0m \u001b[38;5;28;01mimport\u001b[39;00m \u001b[38;5;21;01mpandas\u001b[39;00m \u001b[38;5;28;01mas\u001b[39;00m \u001b[38;5;21;01mpd\u001b[39;00m \n\u001b[0;32m      3\u001b[0m \u001b[38;5;66;03m#Reading the Headers CSV File \u001b[39;00m\n\u001b[1;32m----> 4\u001b[0m headers \u001b[38;5;241m=\u001b[39m pd\u001b[38;5;241m.\u001b[39mread_csv(\u001b[38;5;124m\"\u001b[39m\u001b[38;5;124m/kaggle/input/datacleanupoperations/mn_headers.csv\u001b[39m\u001b[38;5;124m\"\u001b[39m)\n\u001b[0;32m      5\u001b[0m data_rows \u001b[38;5;241m=\u001b[39m pd\u001b[38;5;241m.\u001b[39mread_csv(\u001b[38;5;124m\"\u001b[39m\u001b[38;5;124m/kaggle/input/datacleanupoperations/mn.csv\u001b[39m\u001b[38;5;124m\"\u001b[39m)\n",
      "File \u001b[1;32md:\\Apna\\Lib\\site-packages\\pandas\\io\\parsers\\readers.py:912\u001b[0m, in \u001b[0;36mread_csv\u001b[1;34m(filepath_or_buffer, sep, delimiter, header, names, index_col, usecols, dtype, engine, converters, true_values, false_values, skipinitialspace, skiprows, skipfooter, nrows, na_values, keep_default_na, na_filter, verbose, skip_blank_lines, parse_dates, infer_datetime_format, keep_date_col, date_parser, date_format, dayfirst, cache_dates, iterator, chunksize, compression, thousands, decimal, lineterminator, quotechar, quoting, doublequote, escapechar, comment, encoding, encoding_errors, dialect, on_bad_lines, delim_whitespace, low_memory, memory_map, float_precision, storage_options, dtype_backend)\u001b[0m\n\u001b[0;32m    899\u001b[0m kwds_defaults \u001b[38;5;241m=\u001b[39m _refine_defaults_read(\n\u001b[0;32m    900\u001b[0m     dialect,\n\u001b[0;32m    901\u001b[0m     delimiter,\n\u001b[1;32m   (...)\u001b[0m\n\u001b[0;32m    908\u001b[0m     dtype_backend\u001b[38;5;241m=\u001b[39mdtype_backend,\n\u001b[0;32m    909\u001b[0m )\n\u001b[0;32m    910\u001b[0m kwds\u001b[38;5;241m.\u001b[39mupdate(kwds_defaults)\n\u001b[1;32m--> 912\u001b[0m \u001b[38;5;28;01mreturn\u001b[39;00m _read(filepath_or_buffer, kwds)\n",
      "File \u001b[1;32md:\\Apna\\Lib\\site-packages\\pandas\\io\\parsers\\readers.py:577\u001b[0m, in \u001b[0;36m_read\u001b[1;34m(filepath_or_buffer, kwds)\u001b[0m\n\u001b[0;32m    574\u001b[0m _validate_names(kwds\u001b[38;5;241m.\u001b[39mget(\u001b[38;5;124m\"\u001b[39m\u001b[38;5;124mnames\u001b[39m\u001b[38;5;124m\"\u001b[39m, \u001b[38;5;28;01mNone\u001b[39;00m))\n\u001b[0;32m    576\u001b[0m \u001b[38;5;66;03m# Create the parser.\u001b[39;00m\n\u001b[1;32m--> 577\u001b[0m parser \u001b[38;5;241m=\u001b[39m TextFileReader(filepath_or_buffer, \u001b[38;5;241m*\u001b[39m\u001b[38;5;241m*\u001b[39mkwds)\n\u001b[0;32m    579\u001b[0m \u001b[38;5;28;01mif\u001b[39;00m chunksize \u001b[38;5;129;01mor\u001b[39;00m iterator:\n\u001b[0;32m    580\u001b[0m     \u001b[38;5;28;01mreturn\u001b[39;00m parser\n",
      "File \u001b[1;32md:\\Apna\\Lib\\site-packages\\pandas\\io\\parsers\\readers.py:1407\u001b[0m, in \u001b[0;36mTextFileReader.__init__\u001b[1;34m(self, f, engine, **kwds)\u001b[0m\n\u001b[0;32m   1404\u001b[0m     \u001b[38;5;28mself\u001b[39m\u001b[38;5;241m.\u001b[39moptions[\u001b[38;5;124m\"\u001b[39m\u001b[38;5;124mhas_index_names\u001b[39m\u001b[38;5;124m\"\u001b[39m] \u001b[38;5;241m=\u001b[39m kwds[\u001b[38;5;124m\"\u001b[39m\u001b[38;5;124mhas_index_names\u001b[39m\u001b[38;5;124m\"\u001b[39m]\n\u001b[0;32m   1406\u001b[0m \u001b[38;5;28mself\u001b[39m\u001b[38;5;241m.\u001b[39mhandles: IOHandles \u001b[38;5;241m|\u001b[39m \u001b[38;5;28;01mNone\u001b[39;00m \u001b[38;5;241m=\u001b[39m \u001b[38;5;28;01mNone\u001b[39;00m\n\u001b[1;32m-> 1407\u001b[0m \u001b[38;5;28mself\u001b[39m\u001b[38;5;241m.\u001b[39m_engine \u001b[38;5;241m=\u001b[39m \u001b[38;5;28mself\u001b[39m\u001b[38;5;241m.\u001b[39m_make_engine(f, \u001b[38;5;28mself\u001b[39m\u001b[38;5;241m.\u001b[39mengine)\n",
      "File \u001b[1;32md:\\Apna\\Lib\\site-packages\\pandas\\io\\parsers\\readers.py:1661\u001b[0m, in \u001b[0;36mTextFileReader._make_engine\u001b[1;34m(self, f, engine)\u001b[0m\n\u001b[0;32m   1659\u001b[0m     \u001b[38;5;28;01mif\u001b[39;00m \u001b[38;5;124m\"\u001b[39m\u001b[38;5;124mb\u001b[39m\u001b[38;5;124m\"\u001b[39m \u001b[38;5;129;01mnot\u001b[39;00m \u001b[38;5;129;01min\u001b[39;00m mode:\n\u001b[0;32m   1660\u001b[0m         mode \u001b[38;5;241m+\u001b[39m\u001b[38;5;241m=\u001b[39m \u001b[38;5;124m\"\u001b[39m\u001b[38;5;124mb\u001b[39m\u001b[38;5;124m\"\u001b[39m\n\u001b[1;32m-> 1661\u001b[0m \u001b[38;5;28mself\u001b[39m\u001b[38;5;241m.\u001b[39mhandles \u001b[38;5;241m=\u001b[39m get_handle(\n\u001b[0;32m   1662\u001b[0m     f,\n\u001b[0;32m   1663\u001b[0m     mode,\n\u001b[0;32m   1664\u001b[0m     encoding\u001b[38;5;241m=\u001b[39m\u001b[38;5;28mself\u001b[39m\u001b[38;5;241m.\u001b[39moptions\u001b[38;5;241m.\u001b[39mget(\u001b[38;5;124m\"\u001b[39m\u001b[38;5;124mencoding\u001b[39m\u001b[38;5;124m\"\u001b[39m, \u001b[38;5;28;01mNone\u001b[39;00m),\n\u001b[0;32m   1665\u001b[0m     compression\u001b[38;5;241m=\u001b[39m\u001b[38;5;28mself\u001b[39m\u001b[38;5;241m.\u001b[39moptions\u001b[38;5;241m.\u001b[39mget(\u001b[38;5;124m\"\u001b[39m\u001b[38;5;124mcompression\u001b[39m\u001b[38;5;124m\"\u001b[39m, \u001b[38;5;28;01mNone\u001b[39;00m),\n\u001b[0;32m   1666\u001b[0m     memory_map\u001b[38;5;241m=\u001b[39m\u001b[38;5;28mself\u001b[39m\u001b[38;5;241m.\u001b[39moptions\u001b[38;5;241m.\u001b[39mget(\u001b[38;5;124m\"\u001b[39m\u001b[38;5;124mmemory_map\u001b[39m\u001b[38;5;124m\"\u001b[39m, \u001b[38;5;28;01mFalse\u001b[39;00m),\n\u001b[0;32m   1667\u001b[0m     is_text\u001b[38;5;241m=\u001b[39mis_text,\n\u001b[0;32m   1668\u001b[0m     errors\u001b[38;5;241m=\u001b[39m\u001b[38;5;28mself\u001b[39m\u001b[38;5;241m.\u001b[39moptions\u001b[38;5;241m.\u001b[39mget(\u001b[38;5;124m\"\u001b[39m\u001b[38;5;124mencoding_errors\u001b[39m\u001b[38;5;124m\"\u001b[39m, \u001b[38;5;124m\"\u001b[39m\u001b[38;5;124mstrict\u001b[39m\u001b[38;5;124m\"\u001b[39m),\n\u001b[0;32m   1669\u001b[0m     storage_options\u001b[38;5;241m=\u001b[39m\u001b[38;5;28mself\u001b[39m\u001b[38;5;241m.\u001b[39moptions\u001b[38;5;241m.\u001b[39mget(\u001b[38;5;124m\"\u001b[39m\u001b[38;5;124mstorage_options\u001b[39m\u001b[38;5;124m\"\u001b[39m, \u001b[38;5;28;01mNone\u001b[39;00m),\n\u001b[0;32m   1670\u001b[0m )\n\u001b[0;32m   1671\u001b[0m \u001b[38;5;28;01massert\u001b[39;00m \u001b[38;5;28mself\u001b[39m\u001b[38;5;241m.\u001b[39mhandles \u001b[38;5;129;01mis\u001b[39;00m \u001b[38;5;129;01mnot\u001b[39;00m \u001b[38;5;28;01mNone\u001b[39;00m\n\u001b[0;32m   1672\u001b[0m f \u001b[38;5;241m=\u001b[39m \u001b[38;5;28mself\u001b[39m\u001b[38;5;241m.\u001b[39mhandles\u001b[38;5;241m.\u001b[39mhandle\n",
      "File \u001b[1;32md:\\Apna\\Lib\\site-packages\\pandas\\io\\common.py:859\u001b[0m, in \u001b[0;36mget_handle\u001b[1;34m(path_or_buf, mode, encoding, compression, memory_map, is_text, errors, storage_options)\u001b[0m\n\u001b[0;32m    854\u001b[0m \u001b[38;5;28;01melif\u001b[39;00m \u001b[38;5;28misinstance\u001b[39m(handle, \u001b[38;5;28mstr\u001b[39m):\n\u001b[0;32m    855\u001b[0m     \u001b[38;5;66;03m# Check whether the filename is to be opened in binary mode.\u001b[39;00m\n\u001b[0;32m    856\u001b[0m     \u001b[38;5;66;03m# Binary mode does not support 'encoding' and 'newline'.\u001b[39;00m\n\u001b[0;32m    857\u001b[0m     \u001b[38;5;28;01mif\u001b[39;00m ioargs\u001b[38;5;241m.\u001b[39mencoding \u001b[38;5;129;01mand\u001b[39;00m \u001b[38;5;124m\"\u001b[39m\u001b[38;5;124mb\u001b[39m\u001b[38;5;124m\"\u001b[39m \u001b[38;5;129;01mnot\u001b[39;00m \u001b[38;5;129;01min\u001b[39;00m ioargs\u001b[38;5;241m.\u001b[39mmode:\n\u001b[0;32m    858\u001b[0m         \u001b[38;5;66;03m# Encoding\u001b[39;00m\n\u001b[1;32m--> 859\u001b[0m         handle \u001b[38;5;241m=\u001b[39m \u001b[38;5;28mopen\u001b[39m(\n\u001b[0;32m    860\u001b[0m             handle,\n\u001b[0;32m    861\u001b[0m             ioargs\u001b[38;5;241m.\u001b[39mmode,\n\u001b[0;32m    862\u001b[0m             encoding\u001b[38;5;241m=\u001b[39mioargs\u001b[38;5;241m.\u001b[39mencoding,\n\u001b[0;32m    863\u001b[0m             errors\u001b[38;5;241m=\u001b[39merrors,\n\u001b[0;32m    864\u001b[0m             newline\u001b[38;5;241m=\u001b[39m\u001b[38;5;124m\"\u001b[39m\u001b[38;5;124m\"\u001b[39m,\n\u001b[0;32m    865\u001b[0m         )\n\u001b[0;32m    866\u001b[0m     \u001b[38;5;28;01melse\u001b[39;00m:\n\u001b[0;32m    867\u001b[0m         \u001b[38;5;66;03m# Binary mode\u001b[39;00m\n\u001b[0;32m    868\u001b[0m         handle \u001b[38;5;241m=\u001b[39m \u001b[38;5;28mopen\u001b[39m(handle, ioargs\u001b[38;5;241m.\u001b[39mmode)\n",
      "\u001b[1;31mFileNotFoundError\u001b[0m: [Errno 2] No such file or directory: '/kaggle/input/datacleanupoperations/mn_headers.csv'"
     ]
    }
   ],
   "source": [
    "#Importing the pandas library \n",
    "import pandas as pd \n",
    "#Reading the Headers CSV File \n",
    "headers = pd.read_csv(\"/kaggle/input/datacleanupoperations/mn_headers.csv\")\n",
    "data_rows = pd.read_csv(\"/kaggle/input/datacleanupoperations/mn.csv\")"
   ]
  },
  {
   "cell_type": "code",
   "execution_count": null,
   "id": "94bf2fb5",
   "metadata": {
    "papermill": {
     "duration": 0.004195,
     "end_time": "2024-03-26T03:00:29.040695",
     "exception": false,
     "start_time": "2024-03-26T03:00:29.036500",
     "status": "completed"
    },
    "tags": []
   },
   "outputs": [],
   "source": []
  },
  {
   "cell_type": "code",
   "execution_count": null,
   "id": "24a327da",
   "metadata": {
    "execution": {
     "iopub.execute_input": "2024-03-26T03:00:29.050845Z",
     "iopub.status.busy": "2024-03-26T03:00:29.050333Z",
     "iopub.status.idle": "2024-03-26T03:00:29.063677Z",
     "shell.execute_reply": "2024-03-26T03:00:29.062320Z"
    },
    "papermill": {
     "duration": 0.021573,
     "end_time": "2024-03-26T03:00:29.066535",
     "exception": false,
     "start_time": "2024-03-26T03:00:29.044962",
     "status": "completed"
    },
    "tags": []
   },
   "outputs": [],
   "source": [
    "#Reading the mn_headers.csv \n",
    "print(headers.columns)\n",
    "header_rows = headers['Name']\n",
    "headers_list = list(header_rows)\n",
    "print(headers_list)\n",
    "print(\"Length of the headers list in mn_headers.csv\",len(headers_list))\n",
    "data_headers = data_rows.columns\n",
    "print(\"Headers in mn.csv\")\n",
    "data_headers = list(data_headers[1:])\n",
    "print(data_headers)\n",
    "print(\"Length of the headers in mn.csv\",len(data_headers))"
   ]
  },
  {
   "cell_type": "code",
   "execution_count": null,
   "id": "4aee5156",
   "metadata": {
    "execution": {
     "iopub.execute_input": "2024-03-26T03:00:29.076741Z",
     "iopub.status.busy": "2024-03-26T03:00:29.076292Z",
     "iopub.status.idle": "2024-03-26T03:00:29.083553Z",
     "shell.execute_reply": "2024-03-26T03:00:29.082124Z"
    },
    "papermill": {
     "duration": 0.017106,
     "end_time": "2024-03-26T03:00:29.087707",
     "exception": false,
     "start_time": "2024-03-26T03:00:29.070601",
     "status": "completed"
    },
    "tags": []
   },
   "outputs": [],
   "source": [
    "print(\"Finding the mismatches in the Length\")\n",
    "print(\"Using the set Difference\")\n",
    "difference_headers = list(set(headers_list)-set(data_headers))\n",
    "for i in difference_headers:\n",
    "    print(i)"
   ]
  },
  {
   "cell_type": "code",
   "execution_count": null,
   "id": "546daa6e",
   "metadata": {
    "execution": {
     "iopub.execute_input": "2024-03-26T03:00:29.099887Z",
     "iopub.status.busy": "2024-03-26T03:00:29.099488Z",
     "iopub.status.idle": "2024-03-26T03:00:29.106911Z",
     "shell.execute_reply": "2024-03-26T03:00:29.105857Z"
    },
    "papermill": {
     "duration": 0.017017,
     "end_time": "2024-03-26T03:00:29.109819",
     "exception": false,
     "start_time": "2024-03-26T03:00:29.092802",
     "status": "completed"
    },
    "tags": []
   },
   "outputs": [],
   "source": [
    "#Removing the above columns in the headers list \n",
    "for i in difference_headers:\n",
    "    headers_list.remove(i)\n",
    "print(\"Now Length of the headers_list is \",len(headers_list))\n",
    "print(\"Length of the data_headers is\",len(data_headers))\n",
    "#Still mismatch in the columns\n",
    "difference_in_data = list(set(data_headers)-set(headers_list))\n",
    "print(\"Unnecessary columns in the data_headers\")\n",
    "for i in difference_in_data:\n",
    "    print(i)"
   ]
  },
  {
   "cell_type": "code",
   "execution_count": null,
   "id": "98b06c13",
   "metadata": {
    "execution": {
     "iopub.execute_input": "2024-03-26T03:00:29.121077Z",
     "iopub.status.busy": "2024-03-26T03:00:29.119942Z",
     "iopub.status.idle": "2024-03-26T03:00:29.226183Z",
     "shell.execute_reply": "2024-03-26T03:00:29.224579Z"
    },
    "papermill": {
     "duration": 0.114846,
     "end_time": "2024-03-26T03:00:29.229058",
     "exception": false,
     "start_time": "2024-03-26T03:00:29.114212",
     "status": "completed"
    },
    "tags": []
   },
   "outputs": [],
   "source": [
    "#Removing the unnecessary columns in the data_headers \n",
    "for i in difference_in_data:\n",
    "    data_rows.drop(i,axis=1,inplace=True)\n",
    "print(\"Dropped successfully\")"
   ]
  },
  {
   "cell_type": "code",
   "execution_count": null,
   "id": "27dd8cb7",
   "metadata": {
    "execution": {
     "iopub.execute_input": "2024-03-26T03:00:29.240006Z",
     "iopub.status.busy": "2024-03-26T03:00:29.239612Z",
     "iopub.status.idle": "2024-03-26T03:00:29.247203Z",
     "shell.execute_reply": "2024-03-26T03:00:29.245752Z"
    },
    "papermill": {
     "duration": 0.016441,
     "end_time": "2024-03-26T03:00:29.250116",
     "exception": false,
     "start_time": "2024-03-26T03:00:29.233675",
     "status": "completed"
    },
    "tags": []
   },
   "outputs": [],
   "source": [
    "#Now the Length of the headers list \n",
    "print(\"Length of the headers_list\",len(headers_list))\n",
    "#Now the Length of data_rows \n",
    "print(\"Length of the headers in the data_list\",len(data_rows.columns[1:]))\n"
   ]
  },
  {
   "cell_type": "code",
   "execution_count": null,
   "id": "1184baf4",
   "metadata": {
    "execution": {
     "iopub.execute_input": "2024-03-26T03:00:29.261740Z",
     "iopub.status.busy": "2024-03-26T03:00:29.261214Z",
     "iopub.status.idle": "2024-03-26T03:00:37.212160Z",
     "shell.execute_reply": "2024-03-26T03:00:37.211002Z"
    },
    "papermill": {
     "duration": 7.974155,
     "end_time": "2024-03-26T03:00:37.228915",
     "exception": false,
     "start_time": "2024-03-26T03:00:29.254760",
     "status": "completed"
    },
    "tags": []
   },
   "outputs": [],
   "source": [
    "#Checking for the duplicates \n",
    "print(\"The no of rows in the data is\",len(data_rows))\n",
    "print(\"Filling with the missing values\")\n",
    "data_rows.fillna(9999,inplace=True)\n",
    "unique=[]\n",
    "unique_string=[]\n",
    "for i in data_rows.values:\n",
    "    print(i)\n",
    "    newList = [str(d) for d in i]\n",
    "    string = \"\".join(newList)\n",
    "    if string not in unique_string:\n",
    "        unique_string.append(string)\n",
    "        unique.append(i)\n",
    "print(len(unique))\n",
    "    \n",
    "print(\"Now the Length of the in data\",len(data_rows))"
   ]
  }
 ],
 "metadata": {
  "kaggle": {
   "accelerator": "none",
   "dataSources": [
    {
     "datasetId": 4667705,
     "sourceId": 7939513,
     "sourceType": "datasetVersion"
    }
   ],
   "dockerImageVersionId": 30673,
   "isGpuEnabled": false,
   "isInternetEnabled": false,
   "language": "python",
   "sourceType": "notebook"
  },
  "kernelspec": {
   "display_name": "Python 3",
   "language": "python",
   "name": "python3"
  },
  "language_info": {
   "codemirror_mode": {
    "name": "ipython",
    "version": 3
   },
   "file_extension": ".py",
   "mimetype": "text/x-python",
   "name": "python",
   "nbconvert_exporter": "python",
   "pygments_lexer": "ipython3",
   "version": "3.11.5"
  },
  "papermill": {
   "default_parameters": {},
   "duration": 14.489358,
   "end_time": "2024-03-26T03:00:38.023326",
   "environment_variables": {},
   "exception": null,
   "input_path": "__notebook__.ipynb",
   "output_path": "__notebook__.ipynb",
   "parameters": {},
   "start_time": "2024-03-26T03:00:23.533968",
   "version": "2.5.0"
  }
 },
 "nbformat": 4,
 "nbformat_minor": 5
}
