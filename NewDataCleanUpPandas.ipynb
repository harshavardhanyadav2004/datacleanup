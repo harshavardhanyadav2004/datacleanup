{
 "cells": [
  {
   "cell_type": "code",
   "execution_count": null,
   "id": "53394afd",
   "metadata": {
    "_cell_guid": "b1076dfc-b9ad-4769-8c92-a6c4dae69d19",
    "_uuid": "8f2839f25d086af736a60e9eeb907d3b93b6e0e5",
    "execution": {
     "iopub.execute_input": "2024-03-26T03:00:27.545636Z",
     "iopub.status.busy": "2024-03-26T03:00:27.545199Z",
     "iopub.status.idle": "2024-03-26T03:00:29.028418Z",
     "shell.execute_reply": "2024-03-26T03:00:29.027018Z"
    },
    "papermill": {
     "duration": 1.492413,
     "end_time": "2024-03-26T03:00:29.031369",
     "exception": false,
     "start_time": "2024-03-26T03:00:27.538956",
     "status": "completed"
    },
    "tags": []
   },
   "outputs": [],
   "source": [
    "#Importing the pandas library \n",
    "import pandas as pd \n",
    "#Reading the Headers CSV File \n",
    "headers = pd.read_csv(\"mn_headers.csv\")\n",
    "data_rows = pd.read_csv(\"mn.csv\")"
   ]
  },
  {
   "cell_type": "code",
   "execution_count": null,
   "id": "94bf2fb5",
   "metadata": {
    "papermill": {
     "duration": 0.004195,
     "end_time": "2024-03-26T03:00:29.040695",
     "exception": false,
     "start_time": "2024-03-26T03:00:29.036500",
     "status": "completed"
    },
    "tags": []
   },
   "outputs": [],
   "source": []
  },
  {
   "cell_type": "code",
   "execution_count": null,
   "id": "24a327da",
   "metadata": {
    "execution": {
     "iopub.execute_input": "2024-03-26T03:00:29.050845Z",
     "iopub.status.busy": "2024-03-26T03:00:29.050333Z",
     "iopub.status.idle": "2024-03-26T03:00:29.063677Z",
     "shell.execute_reply": "2024-03-26T03:00:29.062320Z"
    },
    "papermill": {
     "duration": 0.021573,
     "end_time": "2024-03-26T03:00:29.066535",
     "exception": false,
     "start_time": "2024-03-26T03:00:29.044962",
     "status": "completed"
    },
    "tags": []
   },
   "outputs": [],
   "source": [
    "#Reading the mn_headers.csv \n",
    "print(headers.columns)\n",
    "header_rows = headers['Name']\n",
    "headers_list = list(header_rows)\n",
    "print(headers_list)\n",
    "print(\"Length of the headers list in mn_headers.csv\",len(headers_list))\n",
    "data_headers = data_rows.columns\n",
    "print(\"Headers in mn.csv\")\n",
    "data_headers = list(data_headers[1:])\n",
    "print(data_headers)\n",
    "print(\"Length of the headers in mn.csv\",len(data_headers))"
   ]
  },
  {
   "cell_type": "code",
   "execution_count": null,
   "id": "4aee5156",
   "metadata": {
    "execution": {
     "iopub.execute_input": "2024-03-26T03:00:29.076741Z",
     "iopub.status.busy": "2024-03-26T03:00:29.076292Z",
     "iopub.status.idle": "2024-03-26T03:00:29.083553Z",
     "shell.execute_reply": "2024-03-26T03:00:29.082124Z"
    },
    "papermill": {
     "duration": 0.017106,
     "end_time": "2024-03-26T03:00:29.087707",
     "exception": false,
     "start_time": "2024-03-26T03:00:29.070601",
     "status": "completed"
    },
    "tags": []
   },
   "outputs": [],
   "source": [
    "print(\"Finding the mismatches in the Length\")\n",
    "print(\"Using the set Difference\")\n",
    "difference_headers = list(set(headers_list)-set(data_headers))\n",
    "for i in difference_headers:\n",
    "    print(i)"
   ]
  },
  {
   "cell_type": "code",
   "execution_count": null,
   "id": "546daa6e",
   "metadata": {
    "execution": {
     "iopub.execute_input": "2024-03-26T03:00:29.099887Z",
     "iopub.status.busy": "2024-03-26T03:00:29.099488Z",
     "iopub.status.idle": "2024-03-26T03:00:29.106911Z",
     "shell.execute_reply": "2024-03-26T03:00:29.105857Z"
    },
    "papermill": {
     "duration": 0.017017,
     "end_time": "2024-03-26T03:00:29.109819",
     "exception": false,
     "start_time": "2024-03-26T03:00:29.092802",
     "status": "completed"
    },
    "tags": []
   },
   "outputs": [],
   "source": [
    "#Removing the above columns in the headers list \n",
    "for i in difference_headers:\n",
    "    headers_list.remove(i)\n",
    "print(\"Now Length of the headers_list is \",len(headers_list))\n",
    "print(\"Length of the data_headers is\",len(data_headers))\n",
    "#Still mismatch in the columns\n",
    "difference_in_data = list(set(data_headers)-set(headers_list))\n",
    "print(\"Unnecessary columns in the data_headers\")\n",
    "for i in difference_in_data:\n",
    "    print(i)"
   ]
  },
  {
   "cell_type": "code",
   "execution_count": null,
   "id": "98b06c13",
   "metadata": {
    "execution": {
     "iopub.execute_input": "2024-03-26T03:00:29.121077Z",
     "iopub.status.busy": "2024-03-26T03:00:29.119942Z",
     "iopub.status.idle": "2024-03-26T03:00:29.226183Z",
     "shell.execute_reply": "2024-03-26T03:00:29.224579Z"
    },
    "papermill": {
     "duration": 0.114846,
     "end_time": "2024-03-26T03:00:29.229058",
     "exception": false,
     "start_time": "2024-03-26T03:00:29.114212",
     "status": "completed"
    },
    "tags": []
   },
   "outputs": [],
   "source": [
    "#Removing the unnecessary columns in the data_headers \n",
    "for i in difference_in_data:\n",
    "    data_rows.drop(i,axis=1,inplace=True)\n",
    "print(\"Dropped successfully\")"
   ]
  },
  {
   "cell_type": "code",
   "execution_count": null,
   "id": "27dd8cb7",
   "metadata": {
    "execution": {
     "iopub.execute_input": "2024-03-26T03:00:29.240006Z",
     "iopub.status.busy": "2024-03-26T03:00:29.239612Z",
     "iopub.status.idle": "2024-03-26T03:00:29.247203Z",
     "shell.execute_reply": "2024-03-26T03:00:29.245752Z"
    },
    "papermill": {
     "duration": 0.016441,
     "end_time": "2024-03-26T03:00:29.250116",
     "exception": false,
     "start_time": "2024-03-26T03:00:29.233675",
     "status": "completed"
    },
    "tags": []
   },
   "outputs": [],
   "source": [
    "#Now the Length of the headers list \n",
    "print(\"Length of the headers_list\",len(headers_list))\n",
    "#Now the Length of data_rows \n",
    "print(\"Length of the headers in the data_list\",len(data_rows.columns[1:]))\n"
   ]
  },
  {
   "cell_type": "code",
   "execution_count": null,
   "id": "1184baf4",
   "metadata": {
    "execution": {
     "iopub.execute_input": "2024-03-26T03:00:29.261740Z",
     "iopub.status.busy": "2024-03-26T03:00:29.261214Z",
     "iopub.status.idle": "2024-03-26T03:00:37.212160Z",
     "shell.execute_reply": "2024-03-26T03:00:37.211002Z"
    },
    "papermill": {
     "duration": 7.974155,
     "end_time": "2024-03-26T03:00:37.228915",
     "exception": false,
     "start_time": "2024-03-26T03:00:29.254760",
     "status": "completed"
    },
    "tags": []
   },
   "outputs": [],
   "source": [
    "#Checking for the duplicates \n",
    "print(\"The no of rows in the data is\",len(data_rows))\n",
    "print(\"Filling with the missing values\")\n",
    "data_rows.fillna(9999,inplace=True)\n",
    "unique=[]\n",
    "unique_string=[]\n",
    "for i in data_rows.values:\n",
    "    print(i)\n",
    "    newList = [str(d) for d in i]\n",
    "    string = \"\".join(newList)\n",
    "    if string not in unique_string:\n",
    "        unique_string.append(string)\n",
    "        unique.append(i)\n",
    "print(len(unique))\n",
    "    \n",
    "print(\"Now the Length of the in data\",len(data_rows))"
   ]
  }
 ],
 "metadata": {
  "kaggle": {
   "accelerator": "none",
   "dataSources": [
    {
     "datasetId": 4667705,
     "sourceId": 7939513,
     "sourceType": "datasetVersion"
    }
   ],
   "dockerImageVersionId": 30673,
   "isGpuEnabled": false,
   "isInternetEnabled": false,
   "language": "python",
   "sourceType": "notebook"
  },
  "kernelspec": {
   "display_name": "Python 3",
   "language": "python",
   "name": "python3"
  },
  "language_info": {
   "codemirror_mode": {
    "name": "ipython",
    "version": 3
   },
   "file_extension": ".py",
   "mimetype": "text/x-python",
   "name": "python",
   "nbconvert_exporter": "python",
   "pygments_lexer": "ipython3",
   "version": "3.11.5"
  },
  "papermill": {
   "default_parameters": {},
   "duration": 14.489358,
   "end_time": "2024-03-26T03:00:38.023326",
   "environment_variables": {},
   "exception": null,
   "input_path": "__notebook__.ipynb",
   "output_path": "__notebook__.ipynb",
   "parameters": {},
   "start_time": "2024-03-26T03:00:23.533968",
   "version": "2.5.0"
  }
 },
 "nbformat": 4,
 "nbformat_minor": 5
}
